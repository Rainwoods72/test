{
  "nbformat": 4,
  "nbformat_minor": 0,
  "metadata": {
    "colab": {
      "provenance": [],
      "include_colab_link": true
    },
    "kernelspec": {
      "name": "python3",
      "display_name": "Python 3"
    },
    "language_info": {
      "name": "python"
    }
  },
  "cells": [
    {
      "cell_type": "markdown",
      "metadata": {
        "id": "view-in-github",
        "colab_type": "text"
      },
      "source": [
        "<a href=\"https://colab.research.google.com/github/Rainwoods72/test/blob/main/%EC%88%98%EC%97%85%EC%9E%90%EB%A3%8C_%EC%A0%9C%EC%96%B4%EB%AC%B8_%EB%AC%B8%EC%A0%9C.ipynb\" target=\"_parent\"><img src=\"https://colab.research.google.com/assets/colab-badge.svg\" alt=\"Open In Colab\"/></a>"
      ]
    },
    {
      "cell_type": "markdown",
      "source": [
        "## 100m 달리기 아래는 달리기 성적 기록이다. 이때 9초 이상 11초 미만 합격, 11초 이상 13초 미만 재시험, 13초 초과 불합격을 프린트하시오\n",
        "\n",
        "* input을 활용해 만들기\n",
        "* 9, 10, 11, 12, 15, 25, 13, 12, 9.5, 10.6, 11.2, 9.5"
      ],
      "metadata": {
        "id": "RxLgKtG8TXc8"
      }
    },
    {
      "cell_type": "code",
      "source": [
        "A=[9, 10, 11, 12, 15, 25, 13, 12, 9.5, 10.6, 11.2, 9.5]\n",
        "for i in range(len(A)):\n",
        "  a=float(A[i])\n",
        "  if a>=9 and a<11:\n",
        "    print(\"합격\")\n",
        "  elif a>=11 and a<13:\n",
        "    print(\"재시험\")\n",
        "  elif a>13:\n",
        "    print(\"불합격\")\n",
        "  else:\n",
        "    print(\"잘못된 값\")"
      ],
      "metadata": {
        "colab": {
          "base_uri": "https://localhost:8080/"
        },
        "id": "cEZSQ47bTs1p",
        "outputId": "95431758-770e-4ef9-b0f3-d0bd34169b34"
      },
      "execution_count": 16,
      "outputs": [
        {
          "output_type": "stream",
          "name": "stdout",
          "text": [
            "합격\n",
            "합격\n",
            "재시험\n",
            "재시험\n",
            "불합격\n",
            "불합격\n",
            "잘못된 값\n",
            "재시험\n",
            "합격\n",
            "합격\n",
            "재시험\n",
            "합격\n"
          ]
        }
      ]
    },
    {
      "cell_type": "code",
      "source": [],
      "metadata": {
        "colab": {
          "base_uri": "https://localhost:8080/"
        },
        "id": "Nfi4dOdtUvo4",
        "outputId": "23833e43-1026-456d-ef05-86c65d3b1ed1"
      },
      "execution_count": null,
      "outputs": [
        {
          "output_type": "stream",
          "name": "stdout",
          "text": [
            "합격\n",
            "합격\n",
            "재시험\n",
            "재시험\n",
            "불합격\n",
            "불합격\n",
            "시간을 입력해주세요\n",
            "재시험\n",
            "합격\n",
            "합격\n",
            "재시험\n",
            "합격\n"
          ]
        }
      ]
    },
    {
      "cell_type": "code",
      "source": [],
      "metadata": {
        "colab": {
          "base_uri": "https://localhost:8080/"
        },
        "id": "TLcMHxRAVCLI",
        "outputId": "92615dad-4635-4d37-8a2b-5565fe9fbdfb"
      },
      "execution_count": null,
      "outputs": [
        {
          "output_type": "stream",
          "name": "stdout",
          "text": [
            "합격\n",
            "합격\n",
            "재시험\n",
            "재시험\n",
            "불합격\n",
            "불합격\n",
            "시간을 입력해주세요\n",
            "재시험\n",
            "합격\n",
            "합격\n",
            "재시험\n",
            "합격\n"
          ]
        }
      ]
    },
    {
      "cell_type": "markdown",
      "source": [
        "##짜장면 : 10,000원, 짬뽕 : 11,000원, 탕수육 22,000원, 볶음밥 : 9,000원을 딕셔너리 형태로 저장하고 메뉴 이름과 금액을 각각 다른 리스트에 저장해 두 개의 리스트로 만들어서 프린트하시오(for 문 사용)"
      ],
      "metadata": {
        "id": "O4tOdgJoG_78"
      }
    },
    {
      "cell_type": "code",
      "source": [
        "menu={\"짜장면\" : \"10,000원\", \"짬뽕\" : \"11,000원\", \"탕수육\" : \"22,000원\", \"볶음밥\" : \"9,000원\"}\n",
        "menu1=[]\n",
        "menu2=[]\n",
        "for key,value in menu.items():\n",
        "  menu1.append(key)\n",
        "  menu2.append(value)\n",
        "print(menu1)\n",
        "print(menu2)"
      ],
      "metadata": {
        "colab": {
          "base_uri": "https://localhost:8080/"
        },
        "id": "Viyiy3qWHAPq",
        "outputId": "769c9efa-d405-4308-a64e-2fa658eff993"
      },
      "execution_count": 23,
      "outputs": [
        {
          "output_type": "stream",
          "name": "stdout",
          "text": [
            "['짜장면', '짬뽕', '탕수육', '볶음밥']\n",
            "['10,000원', '11,000원', '22,000원', '9,000원']\n"
          ]
        }
      ]
    },
    {
      "cell_type": "markdown",
      "source": [
        "##10명의 학생이 있다 각 학생들은 중국집에서 한가지 메뉴를 주문 할 수 있다. 이때 위에서 만든 메뉴판을 활용해 각각 학생들이 한가지 메뉴를 입력하게 하고 메뉴들의 총 합을 더해서 프린트하시오(리스트를 활용해 문제해결)"
      ],
      "metadata": {
        "id": "akKsCOiQHSBr"
      }
    },
    {
      "cell_type": "code",
      "source": [
        "total=[]\n",
        "for i in range(1,11):\n",
        "  c=input((\"{}번 학생의 주문 : \").format(i))\n",
        "  if c==menu1[0]:\n",
        "    total.append(10000)\n",
        "  elif c==menu1[1]:\n",
        "    total.append(11000)\n",
        "  elif c==menu1[2]:\n",
        "    total.append(22000)\n",
        "  elif c==menu1[3]:\n",
        "    total.append(9000)\n",
        "  else:\n",
        "    print(\"잘못된 메뉴 주문\")\n",
        "sum_list=(sum(total))\n",
        "print(sum_list)"
      ],
      "metadata": {
        "colab": {
          "base_uri": "https://localhost:8080/"
        },
        "id": "wFiQoBdBHJhE",
        "outputId": "b6c61ce3-287f-4926-d869-b5fc8a101313"
      },
      "execution_count": 29,
      "outputs": [
        {
          "output_type": "stream",
          "name": "stdout",
          "text": [
            "1번 학생의 주문 : 짜장면\n",
            "2번 학생의 주문 : 짜장면\n",
            "3번 학생의 주문 : 짜장면\n",
            "4번 학생의 주문 : 짜장면\n",
            "5번 학생의 주문 : 짜장면\n",
            "6번 학생의 주문 : 짜장면\n",
            "7번 학생의 주문 : 짜장면\n",
            "8번 학생의 주문 : 짜장면\n",
            "9번 학생의 주문 : 짜장면\n",
            "10번 학생의 주문 : 짜장면\n",
            "100000\n"
          ]
        }
      ]
    },
    {
      "cell_type": "markdown",
      "source": [],
      "metadata": {
        "id": "Kb4_fRwIKx6t"
      }
    },
    {
      "cell_type": "markdown",
      "source": [
        "##10명의 학생이 있다 각 학생들은 중국집에서 한가지 메뉴를 주문 할 수 있다. 이때 위에서 만든 메뉴판을 활용해 각각 학생들이 한가지 메뉴를 입력하게 하고 메뉴들의 총 합을 더해서 프린트하시오(딕셔러니를 활용해 문제 해결)"
      ],
      "metadata": {
        "id": "25RjLzj4K563"
      }
    },
    {
      "cell_type": "code",
      "source": [],
      "metadata": {
        "id": "4vS6dz0xIWyC"
      },
      "execution_count": null,
      "outputs": []
    },
    {
      "cell_type": "markdown",
      "source": [
        "##while문을 사용해 1부터 10까지 프린트 하시오\n",
        "\n",
        "\n",
        "*   i+=1 이 의미는 i에 +1을 해서 이것을 다시 i에 저장해준다는 뜻\n"
      ],
      "metadata": {
        "id": "BZ1PDMyXLomD"
      }
    },
    {
      "cell_type": "code",
      "source": [
        "i=1\n",
        "while i<11:\n",
        "  print(i)\n",
        "  i+=1"
      ],
      "metadata": {
        "colab": {
          "base_uri": "https://localhost:8080/"
        },
        "id": "D6DuipeVKF6C",
        "outputId": "b3c6c438-449c-4577-a42e-2c73e5150194"
      },
      "execution_count": 35,
      "outputs": [
        {
          "output_type": "stream",
          "name": "stdout",
          "text": [
            "1\n",
            "2\n",
            "3\n",
            "4\n",
            "5\n",
            "6\n",
            "7\n",
            "8\n",
            "9\n",
            "10\n"
          ]
        }
      ]
    },
    {
      "cell_type": "markdown",
      "source": [
        "##while문을 사용해 1부터 10까지 프린트 하시오 이때 i가 3의 배수이면 while문을 멈춰주세요"
      ],
      "metadata": {
        "id": "U-vJrMajNInA"
      }
    },
    {
      "cell_type": "code",
      "source": [
        "i=1\n",
        "while i<11:\n",
        "  if i%3==0:\n",
        "    break\n",
        "  else:\n",
        "    print(i)\n",
        "    i+=1"
      ],
      "metadata": {
        "colab": {
          "base_uri": "https://localhost:8080/"
        },
        "id": "Fnk5rg1pL0Vp",
        "outputId": "74d2e21b-91f1-43af-bf05-7294cf6d5e54"
      },
      "execution_count": 37,
      "outputs": [
        {
          "output_type": "stream",
          "name": "stdout",
          "text": [
            "1\n",
            "2\n"
          ]
        }
      ]
    },
    {
      "cell_type": "markdown",
      "source": [
        "##while문을 사용해 1부터 10까지 프린트 하시오 이때 i가 3의 배수가 아닌값만 프린트 하시오"
      ],
      "metadata": {
        "id": "TpLyTHKzNST_"
      }
    },
    {
      "cell_type": "code",
      "source": [
        "i=0\n",
        "while i<10:\n",
        "  i+=1\n",
        "  if i%3==0:\n",
        "    continue\n",
        "  else:\n",
        "    print(i)"
      ],
      "metadata": {
        "colab": {
          "base_uri": "https://localhost:8080/"
        },
        "id": "KK4mhkBLM61r",
        "outputId": "a51aa7b2-ee9b-4e19-9861-bfad6433c0e8"
      },
      "execution_count": 41,
      "outputs": [
        {
          "output_type": "stream",
          "name": "stdout",
          "text": [
            "1\n",
            "2\n",
            "4\n",
            "5\n",
            "7\n",
            "8\n",
            "10\n"
          ]
        }
      ]
    },
    {
      "cell_type": "markdown",
      "source": [
        "##리스트에 라면, 3000, 생수, 2500, 과자,1500, 삼각김밥, 1000을 저장하고 리스트에서 메뉴명과 금액을 각각 따로 빼서 menu, money의 이름을 가지는 리스트로 각각 만드시오"
      ],
      "metadata": {
        "id": "vkrbGOjPNzrf"
      }
    },
    {
      "cell_type": "code",
      "source": [
        "list=[\"라면\", 3000, \"생수\", 2500, \"과자\",1500, \"삼각김밥\", 1000]\n",
        "menu=[]\n",
        "money=[]\n",
        "i=0\n",
        "while i<8:\n",
        "  if type(list[i])==str:\n",
        "    menu.append(list[i])\n",
        "  else:\n",
        "    money.append(list[i])\n",
        "  i+=1\n",
        "print(menu)\n",
        "print(money)"
      ],
      "metadata": {
        "id": "RYOk1EplOOg1",
        "colab": {
          "base_uri": "https://localhost:8080/"
        },
        "outputId": "9e488215-fae1-4ba4-c40f-853252a9b1e1"
      },
      "execution_count": 62,
      "outputs": [
        {
          "output_type": "stream",
          "name": "stdout",
          "text": [
            "['라면', '생수', '과자', '삼각김밥']\n",
            "[3000, 2500, 1500, 1000]\n"
          ]
        }
      ]
    },
    {
      "cell_type": "markdown",
      "source": [
        "##while, for, if문을 활용해 아래와 같은 결과가 나오도록 만드시오"
      ],
      "metadata": {
        "id": "ks9TfJz_SgSA"
      }
    },
    {
      "cell_type": "code",
      "source": [
        "total=[]\n",
        "while True:\n",
        "  for i,j in zip(menu,money):\n",
        "    print((\"{}: {}원\").format(i,j))\n",
        "  selc=input(\"구매하고 싶은 물건을 선택하세요 : \")\n",
        "  for k in range(len(menu)):\n",
        "    if selc==menu[k]:\n",
        "      total.append(money[k])\n",
        "      print(\"*\"*30)\n",
        "      break\n",
        "  if selc==\"done\":\n",
        "    break\n",
        "print(sum(total))"
      ],
      "metadata": {
        "colab": {
          "base_uri": "https://localhost:8080/"
        },
        "id": "Ghmwx4hdOtS4",
        "outputId": "42060232-8c9f-4c87-a584-1ab673ce586f"
      },
      "execution_count": 75,
      "outputs": [
        {
          "output_type": "stream",
          "name": "stdout",
          "text": [
            "라면: 3000원\n",
            "생수: 2500원\n",
            "과자: 1500원\n",
            "삼각김밥: 1000원\n",
            "구매하고 싶은 물건을 선택하세요 : 라면\n",
            "******************************\n",
            "라면: 3000원\n",
            "생수: 2500원\n",
            "과자: 1500원\n",
            "삼각김밥: 1000원\n",
            "구매하고 싶은 물건을 선택하세요 : 삼각김밥\n",
            "******************************\n",
            "라면: 3000원\n",
            "생수: 2500원\n",
            "과자: 1500원\n",
            "삼각김밥: 1000원\n",
            "구매하고 싶은 물건을 선택하세요 : 생수\n",
            "******************************\n",
            "라면: 3000원\n",
            "생수: 2500원\n",
            "과자: 1500원\n",
            "삼각김밥: 1000원\n",
            "구매하고 싶은 물건을 선택하세요 : 과자\n",
            "******************************\n",
            "라면: 3000원\n",
            "생수: 2500원\n",
            "과자: 1500원\n",
            "삼각김밥: 1000원\n",
            "구매하고 싶은 물건을 선택하세요 : 과자\n",
            "******************************\n",
            "라면: 3000원\n",
            "생수: 2500원\n",
            "과자: 1500원\n",
            "삼각김밥: 1000원\n",
            "구매하고 싶은 물건을 선택하세요 : 삼각김밥\n",
            "******************************\n",
            "라면: 3000원\n",
            "생수: 2500원\n",
            "과자: 1500원\n",
            "삼각김밥: 1000원\n",
            "구매하고 싶은 물건을 선택하세요 : done\n",
            "10500\n"
          ]
        }
      ]
    },
    {
      "cell_type": "code",
      "source": [],
      "metadata": {
        "id": "uVp9qVECTNOP"
      },
      "execution_count": null,
      "outputs": []
    }
  ]
}