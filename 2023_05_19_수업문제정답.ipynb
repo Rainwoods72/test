{
  "nbformat": 4,
  "nbformat_minor": 0,
  "metadata": {
    "colab": {
      "provenance": [],
      "include_colab_link": true
    },
    "kernelspec": {
      "name": "python3",
      "display_name": "Python 3"
    },
    "language_info": {
      "name": "python"
    }
  },
  "cells": [
    {
      "cell_type": "markdown",
      "metadata": {
        "id": "view-in-github",
        "colab_type": "text"
      },
      "source": [
        "<a href=\"https://colab.research.google.com/github/Rainwoods72/test/blob/main/2023_05_19_%EC%88%98%EC%97%85%EB%AC%B8%EC%A0%9C%EC%A0%95%EB%8B%B5.ipynb\" target=\"_parent\"><img src=\"https://colab.research.google.com/assets/colab-badge.svg\" alt=\"Open In Colab\"/></a>"
      ]
    },
    {
      "cell_type": "markdown",
      "source": [
        "#특정 문장을 입력했을때, 아래와 같은 결과가 나오게 만드시오(모음 : a, e, i, o, u)\n",
        "(6줄 이하)"
      ],
      "metadata": {
        "id": "-1MqfZR6YfUq"
      }
    },
    {
      "cell_type": "code",
      "execution_count": null,
      "metadata": {
        "id": "fjASyjD1WxWP",
        "colab": {
          "base_uri": "https://localhost:8080/"
        },
        "outputId": "823ffd52-2c16-45ba-98ee-038700ab5960"
      },
      "outputs": [
        {
          "output_type": "stream",
          "name": "stdout",
          "text": [
            "ai class is so much fun\n",
            "모음의 수는 : 7개\n"
          ]
        }
      ],
      "source": [
        "input_string = input()\n",
        "vowel_count = 0\n",
        "for char in input_string:\n",
        "    if char in ['a', 'e', 'i', 'o', 'u']:\n",
        "        vowel_count += 1\n",
        "print((\"모음의 수는 : {}개\").format(vowel_count))"
      ]
    },
    {
      "cell_type": "markdown",
      "source": [
        "#2000, 2021, 2100, 2024, 1996의 값을 하나의 리스트로 만들고 윤년일 경우와 아닐경우를 아래와 같이 나타내시오 (4로 나누어 떨어지거나, 100으로 나누어 떨어지거나, 400으로 나누어 떨어지는 년도)\n",
        "(6줄 이하)"
      ],
      "metadata": {
        "id": "47ea4f9dZrxu"
      }
    },
    {
      "cell_type": "code",
      "source": [
        "years = [2000, 2021, 2100, 2024, 1996]\n",
        "for year in years:\n",
        "    if year % 4 == 0 and (year % 100 != 0 or year % 400 == 0):\n",
        "        print((\"{}년도는 윤년입니다.\").format(year))\n",
        "    else:\n",
        "        print((\"{}년도는 윤년이 아닙니다.\").format(year))"
      ],
      "metadata": {
        "colab": {
          "base_uri": "https://localhost:8080/"
        },
        "id": "56usqJxwYNzN",
        "outputId": "5a5d243b-1d64-4c22-88e1-98f81f681634"
      },
      "execution_count": null,
      "outputs": [
        {
          "output_type": "stream",
          "name": "stdout",
          "text": [
            "2000년도는 윤년입니다.\n",
            "2021년도는 윤년이 아닙니다.\n",
            "2100년도는 윤년이 아닙니다.\n",
            "2024년도는 윤년입니다.\n",
            "1996년도는 윤년입니다.\n"
          ]
        }
      ]
    },
    {
      "cell_type": "code",
      "source": [],
      "metadata": {
        "id": "G518TNKdj6tD"
      },
      "execution_count": null,
      "outputs": []
    },
    {
      "cell_type": "markdown",
      "source": [
        "#아래와 같은 코드를 작성하시오 \n",
        "(6줄 이하)"
      ],
      "metadata": {
        "id": "A5Fsdyy7o8AA"
      }
    },
    {
      "cell_type": "code",
      "source": [
        "numbers = []\n",
        "for i in range(10):\n",
        "    number = int(input(\"정수를 입력하세요 : \"))\n",
        "    if number % 5 == 0:\n",
        "        numbers.append(number)\n",
        "print((\"5의 배수의 리스트는 : {} 입니다.\").format(numbers))"
      ],
      "metadata": {
        "id": "DSLbQiOvYSCf",
        "colab": {
          "base_uri": "https://localhost:8080/"
        },
        "outputId": "87421f2c-68c3-4c0b-e3c2-2a9492f0f5b4"
      },
      "execution_count": null,
      "outputs": [
        {
          "output_type": "stream",
          "name": "stdout",
          "text": [
            "정수를 입력하세요 : 5\n",
            "정수를 입력하세요 : 20\n",
            "정수를 입력하세요 : 31\n",
            "정수를 입력하세요 : 50\n",
            "정수를 입력하세요 : 100\n",
            "정수를 입력하세요 : 70\n",
            "정수를 입력하세요 : 80\n",
            "정수를 입력하세요 : 90\n",
            "정수를 입력하세요 : 22\n",
            "정수를 입력하세요 : 447\n",
            "5의 배수의 리스트는 : [5, 20, 50, 100, 70, 80, 90] 입니다.\n"
          ]
        }
      ]
    },
    {
      "cell_type": "markdown",
      "source": [
        "#리스트에 라면, 3000, 생수, 2500, 과자,1500, 삼각김밥, 1000을 저장하고 아래와 같이 나타내시오\n",
        "(10줄 이하) for문 if문 무조껀 사용"
      ],
      "metadata": {
        "id": "DEkbX1u1pWp5"
      }
    },
    {
      "cell_type": "code",
      "source": [
        "a=[\"라면\", 3000, \"생수\", 2500, \"과자\",1500, \"삼각김밥\", 1000]\n",
        "b=[]\n",
        "c=[]\n",
        "for i in range(len(a)):\n",
        "  if i%2==0:\n",
        "    b.append(a[i])\n",
        "  else:\n",
        "    c.append(a[i])\n",
        "print(b)\n",
        "print(c)"
      ],
      "metadata": {
        "colab": {
          "base_uri": "https://localhost:8080/"
        },
        "id": "N6HWxAhnp1os",
        "outputId": "0f2feb84-5258-4200-b019-155917c681e2"
      },
      "execution_count": null,
      "outputs": [
        {
          "output_type": "stream",
          "name": "stdout",
          "text": [
            "['라면', '생수', '과자', '삼각김밥']\n",
            "[3000, 2500, 1500, 1000]\n"
          ]
        }
      ]
    },
    {
      "cell_type": "markdown",
      "source": [
        "##1번의 딕셔너리 값을 2번 값으로 변경하시오\n",
        "단 새로운 딕셔너리를 만들어서 변경할순없다."
      ],
      "metadata": {
        "id": "EbSdnHX6Pepm"
      }
    },
    {
      "cell_type": "code",
      "source": [
        "student = {\"name\": \"John\", \"age\": 20, \"grade\": \"A\"}\n",
        "student"
      ],
      "metadata": {
        "colab": {
          "base_uri": "https://localhost:8080/"
        },
        "id": "Z_bbqC2YPBVA",
        "outputId": "10c62e8d-88a0-427b-9984-1bfccd9b3e1b"
      },
      "execution_count": null,
      "outputs": [
        {
          "output_type": "execute_result",
          "data": {
            "text/plain": [
              "{'name': 'John', 'age': 20, 'grade': 'A'}"
            ]
          },
          "metadata": {},
          "execution_count": 7
        }
      ]
    },
    {
      "cell_type": "code",
      "source": [
        "age_value = student[\"age\"]\n",
        "student[\"city\"] = \"New York\"\n",
        "del student[\"grade\"]\n",
        "student[\"age\"] = 21\n",
        "student"
      ],
      "metadata": {
        "colab": {
          "base_uri": "https://localhost:8080/"
        },
        "id": "5Qf_ugxMPPYY",
        "outputId": "e93281d8-0e0f-42e7-fb45-44da031e5aa7"
      },
      "execution_count": null,
      "outputs": [
        {
          "output_type": "execute_result",
          "data": {
            "text/plain": [
              "{'name': 'John', 'age': 21, 'city': 'New York'}"
            ]
          },
          "metadata": {},
          "execution_count": 8
        }
      ]
    },
    {
      "cell_type": "code",
      "source": [],
      "metadata": {
        "id": "F8tEEg-pPRpP"
      },
      "execution_count": null,
      "outputs": []
    }
  ]
}