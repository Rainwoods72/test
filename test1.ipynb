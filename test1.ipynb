{
  "nbformat": 4,
  "nbformat_minor": 0,
  "metadata": {
    "colab": {
      "provenance": [],
      "authorship_tag": "ABX9TyPByZoQPuQflyHbjs3ZE0fU",
      "include_colab_link": true
    },
    "kernelspec": {
      "name": "python3",
      "display_name": "Python 3"
    },
    "language_info": {
      "name": "python"
    }
  },
  "cells": [
    {
      "cell_type": "markdown",
      "metadata": {
        "id": "view-in-github",
        "colab_type": "text"
      },
      "source": [
        "<a href=\"https://colab.research.google.com/github/Rainwoods72/test/blob/main/test1.ipynb\" target=\"_parent\"><img src=\"https://colab.research.google.com/assets/colab-badge.svg\" alt=\"Open In Colab\"/></a>"
      ]
    },
    {
      "cell_type": "code",
      "execution_count": null,
      "metadata": {
        "colab": {
          "base_uri": "https://localhost:8080/"
        },
        "id": "P16Zc6msmX2-",
        "outputId": "b98d2595-49cf-4993-c817-3f341545870a"
      },
      "outputs": [
        {
          "output_type": "stream",
          "name": "stdout",
          "text": [
            "이름: 오상학, 나이: 22\n"
          ]
        }
      ],
      "source": [
        "name=\"오상학\"\n",
        "age=\"22\"\n",
        "a=\"이름: {0}, 나이: {1}\".format(name,age)\n",
        "print(a)"
      ]
    },
    {
      "cell_type": "code",
      "source": [
        "for i in range(1,10):\n",
        "  print(\"-------\"+str(i)+\"단-------\")\n",
        "  for j in range(1,10):\n",
        "    print(\"구구단 : \",i,\"X\",j,\"=\",i*j,\"입니다\")"
      ],
      "metadata": {
        "colab": {
          "base_uri": "https://localhost:8080/"
        },
        "id": "yu86Syidnfm5",
        "outputId": "09892a09-cf21-4998-ed0f-ebf15cd8028e"
      },
      "execution_count": null,
      "outputs": [
        {
          "output_type": "stream",
          "name": "stdout",
          "text": [
            "-------1단-------\n",
            "구구단 :  1 X 1 = 1 입니다\n",
            "구구단 :  1 X 2 = 2 입니다\n",
            "구구단 :  1 X 3 = 3 입니다\n",
            "구구단 :  1 X 4 = 4 입니다\n",
            "구구단 :  1 X 5 = 5 입니다\n",
            "구구단 :  1 X 6 = 6 입니다\n",
            "구구단 :  1 X 7 = 7 입니다\n",
            "구구단 :  1 X 8 = 8 입니다\n",
            "구구단 :  1 X 9 = 9 입니다\n",
            "-------2단-------\n",
            "구구단 :  2 X 1 = 2 입니다\n",
            "구구단 :  2 X 2 = 4 입니다\n",
            "구구단 :  2 X 3 = 6 입니다\n",
            "구구단 :  2 X 4 = 8 입니다\n",
            "구구단 :  2 X 5 = 10 입니다\n",
            "구구단 :  2 X 6 = 12 입니다\n",
            "구구단 :  2 X 7 = 14 입니다\n",
            "구구단 :  2 X 8 = 16 입니다\n",
            "구구단 :  2 X 9 = 18 입니다\n",
            "-------3단-------\n",
            "구구단 :  3 X 1 = 3 입니다\n",
            "구구단 :  3 X 2 = 6 입니다\n",
            "구구단 :  3 X 3 = 9 입니다\n",
            "구구단 :  3 X 4 = 12 입니다\n",
            "구구단 :  3 X 5 = 15 입니다\n",
            "구구단 :  3 X 6 = 18 입니다\n",
            "구구단 :  3 X 7 = 21 입니다\n",
            "구구단 :  3 X 8 = 24 입니다\n",
            "구구단 :  3 X 9 = 27 입니다\n",
            "-------4단-------\n",
            "구구단 :  4 X 1 = 4 입니다\n",
            "구구단 :  4 X 2 = 8 입니다\n",
            "구구단 :  4 X 3 = 12 입니다\n",
            "구구단 :  4 X 4 = 16 입니다\n",
            "구구단 :  4 X 5 = 20 입니다\n",
            "구구단 :  4 X 6 = 24 입니다\n",
            "구구단 :  4 X 7 = 28 입니다\n",
            "구구단 :  4 X 8 = 32 입니다\n",
            "구구단 :  4 X 9 = 36 입니다\n",
            "-------5단-------\n",
            "구구단 :  5 X 1 = 5 입니다\n",
            "구구단 :  5 X 2 = 10 입니다\n",
            "구구단 :  5 X 3 = 15 입니다\n",
            "구구단 :  5 X 4 = 20 입니다\n",
            "구구단 :  5 X 5 = 25 입니다\n",
            "구구단 :  5 X 6 = 30 입니다\n",
            "구구단 :  5 X 7 = 35 입니다\n",
            "구구단 :  5 X 8 = 40 입니다\n",
            "구구단 :  5 X 9 = 45 입니다\n",
            "-------6단-------\n",
            "구구단 :  6 X 1 = 6 입니다\n",
            "구구단 :  6 X 2 = 12 입니다\n",
            "구구단 :  6 X 3 = 18 입니다\n",
            "구구단 :  6 X 4 = 24 입니다\n",
            "구구단 :  6 X 5 = 30 입니다\n",
            "구구단 :  6 X 6 = 36 입니다\n",
            "구구단 :  6 X 7 = 42 입니다\n",
            "구구단 :  6 X 8 = 48 입니다\n",
            "구구단 :  6 X 9 = 54 입니다\n",
            "-------7단-------\n",
            "구구단 :  7 X 1 = 7 입니다\n",
            "구구단 :  7 X 2 = 14 입니다\n",
            "구구단 :  7 X 3 = 21 입니다\n",
            "구구단 :  7 X 4 = 28 입니다\n",
            "구구단 :  7 X 5 = 35 입니다\n",
            "구구단 :  7 X 6 = 42 입니다\n",
            "구구단 :  7 X 7 = 49 입니다\n",
            "구구단 :  7 X 8 = 56 입니다\n",
            "구구단 :  7 X 9 = 63 입니다\n",
            "-------8단-------\n",
            "구구단 :  8 X 1 = 8 입니다\n",
            "구구단 :  8 X 2 = 16 입니다\n",
            "구구단 :  8 X 3 = 24 입니다\n",
            "구구단 :  8 X 4 = 32 입니다\n",
            "구구단 :  8 X 5 = 40 입니다\n",
            "구구단 :  8 X 6 = 48 입니다\n",
            "구구단 :  8 X 7 = 56 입니다\n",
            "구구단 :  8 X 8 = 64 입니다\n",
            "구구단 :  8 X 9 = 72 입니다\n",
            "-------9단-------\n",
            "구구단 :  9 X 1 = 9 입니다\n",
            "구구단 :  9 X 2 = 18 입니다\n",
            "구구단 :  9 X 3 = 27 입니다\n",
            "구구단 :  9 X 4 = 36 입니다\n",
            "구구단 :  9 X 5 = 45 입니다\n",
            "구구단 :  9 X 6 = 54 입니다\n",
            "구구단 :  9 X 7 = 63 입니다\n",
            "구구단 :  9 X 8 = 72 입니다\n",
            "구구단 :  9 X 9 = 81 입니다\n"
          ]
        }
      ]
    },
    {
      "cell_type": "code",
      "source": [
        "g=0\n",
        "exam=[60,80,95,69,90,81,80,69,79,66,70,90,96]\n",
        "for i in exam:\n",
        "  if i>=90:\n",
        "    g=\"A\"\n",
        "  elif i>=80:\n",
        "    g=\"B\"\n",
        "  elif i>=70:\n",
        "    g=\"C\"\n",
        "  elif i>=60:\n",
        "    g=\"D\"\n",
        "  else:\n",
        "    g=\"E\"\n",
        "  print(\"당신의 성적은 \",i,\"이므로 등급은 \",g,\"입니다\")"
      ],
      "metadata": {
        "colab": {
          "base_uri": "https://localhost:8080/"
        },
        "id": "styXFVkGod2z",
        "outputId": "a760d26d-ae8f-4dcd-8b59-6457870128a9"
      },
      "execution_count": 25,
      "outputs": [
        {
          "output_type": "stream",
          "name": "stdout",
          "text": [
            "당신의 성적은  60 이므로 등급은  D 입니다\n",
            "당신의 성적은  80 이므로 등급은  B 입니다\n",
            "당신의 성적은  95 이므로 등급은  A 입니다\n",
            "당신의 성적은  69 이므로 등급은  D 입니다\n",
            "당신의 성적은  90 이므로 등급은  A 입니다\n",
            "당신의 성적은  81 이므로 등급은  B 입니다\n",
            "당신의 성적은  80 이므로 등급은  B 입니다\n",
            "당신의 성적은  69 이므로 등급은  D 입니다\n",
            "당신의 성적은  79 이므로 등급은  C 입니다\n",
            "당신의 성적은  66 이므로 등급은  D 입니다\n",
            "당신의 성적은  70 이므로 등급은  C 입니다\n",
            "당신의 성적은  90 이므로 등급은  A 입니다\n",
            "당신의 성적은  96 이므로 등급은  A 입니다\n"
          ]
        }
      ]
    },
    {
      "cell_type": "code",
      "source": [
        "sum=0\n",
        "for i in range(1,11):\n",
        "  sum=sum+i\n",
        "  print(\"i의 값: \",i,\", 합계: \",sum)"
      ],
      "metadata": {
        "colab": {
          "base_uri": "https://localhost:8080/"
        },
        "id": "v8QuGO8Urw12",
        "outputId": "14d99404-e9b0-476a-ca7d-97af5477f839"
      },
      "execution_count": null,
      "outputs": [
        {
          "output_type": "stream",
          "name": "stdout",
          "text": [
            "i의 값:  1 , 합계:  1\n",
            "i의 값:  2 , 합계:  3\n",
            "i의 값:  3 , 합계:  6\n",
            "i의 값:  4 , 합계:  10\n",
            "i의 값:  5 , 합계:  15\n",
            "i의 값:  6 , 합계:  21\n",
            "i의 값:  7 , 합계:  28\n",
            "i의 값:  8 , 합계:  36\n",
            "i의 값:  9 , 합계:  45\n",
            "i의 값:  10 , 합계:  55\n"
          ]
        }
      ]
    },
    {
      "cell_type": "code",
      "source": [
        "noodle=10000\n",
        "print(\"짜장면을 주문합니다. 금액을 입력하세요.\")\n",
        "money=int(input())\n",
        "if money >= noodle:\n",
        "  print(\"구매 가능\")\n",
        "else:\n",
        "  print(\"구매 불가능\")"
      ],
      "metadata": {
        "colab": {
          "base_uri": "https://localhost:8080/"
        },
        "id": "VMDJi7afuSnW",
        "outputId": "f087790f-08e3-49c7-8f2b-8b66c33ab24d"
      },
      "execution_count": null,
      "outputs": [
        {
          "output_type": "stream",
          "name": "stdout",
          "text": [
            "짜장면을 주문합니다. 금액을 입력하세요.\n",
            "15000\n",
            "구매 가능\n"
          ]
        }
      ]
    },
    {
      "cell_type": "code",
      "source": [],
      "metadata": {
        "id": "qszPnPm2w6Be"
      },
      "execution_count": null,
      "outputs": []
    }
  ]
}