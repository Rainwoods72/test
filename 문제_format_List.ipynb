{
  "nbformat": 4,
  "nbformat_minor": 0,
  "metadata": {
    "colab": {
      "provenance": [],
      "include_colab_link": true
    },
    "kernelspec": {
      "name": "python3",
      "display_name": "Python 3"
    },
    "language_info": {
      "name": "python"
    }
  },
  "cells": [
    {
      "cell_type": "markdown",
      "metadata": {
        "id": "view-in-github",
        "colab_type": "text"
      },
      "source": [
        "<a href=\"https://colab.research.google.com/github/Rainwoods72/test/blob/main/%EB%AC%B8%EC%A0%9C_format_List.ipynb\" target=\"_parent\"><img src=\"https://colab.research.google.com/assets/colab-badge.svg\" alt=\"Open In Colab\"/></a>"
      ]
    },
    {
      "cell_type": "markdown",
      "source": [
        "##변수에 이름/학교/학과 형식으로 저장하고 format을 사용해print하시오(이름/학교/학과는 각각 input을 활용해 입력"
      ],
      "metadata": {
        "id": "7Qajl-mzmqMA"
      }
    },
    {
      "cell_type": "code",
      "source": [
        "name1=input()\n",
        "school=input()\n",
        "depart=input()\n",
        "print(name1, school, depart)"
      ],
      "metadata": {
        "id": "Cf6BfoGHmppC",
        "colab": {
          "base_uri": "https://localhost:8080/"
        },
        "outputId": "983f72f4-1cbb-4c45-d85b-69ef7697f0aa"
      },
      "execution_count": 14,
      "outputs": [
        {
          "output_type": "stream",
          "name": "stdout",
          "text": [
            "테스트\n",
            "강원대\n",
            "AI소프트웨어학과\n",
            "테스트 강원대 AI소프트웨어학과\n"
          ]
        }
      ]
    },
    {
      "cell_type": "markdown",
      "source": [
        "##위에서 생성된 이름/학교/학과 라는 문자를 이름-학교-학과로 변환하시오"
      ],
      "metadata": {
        "id": "Zkw8IHqm_UOY"
      }
    },
    {
      "cell_type": "code",
      "source": [
        "A=[name1, school, depart]"
      ],
      "metadata": {
        "id": "oXseUZIKAA8X"
      },
      "execution_count": 15,
      "outputs": []
    },
    {
      "cell_type": "markdown",
      "source": [
        "##안녕하세요 저는 AI소프트웨어학과 학생입니다. 만나서 반갑습니다. 라는 문장을 만들어서 반갑습니다. 라는 문장만 따로 print하시오 "
      ],
      "metadata": {
        "id": "6wfO4uJkip-s"
      }
    },
    {
      "cell_type": "code",
      "source": [
        "B=\"안녕하세요 저는 AI소프트웨어학과 학생입니다. 만나서 반갑습니다.\"\n",
        "B[-6:]"
      ],
      "metadata": {
        "id": "gEn04xM6jAoh",
        "colab": {
          "base_uri": "https://localhost:8080/",
          "height": 35
        },
        "outputId": "523d5b6d-59a7-487d-932a-ac6a25df4f1b"
      },
      "execution_count": 12,
      "outputs": [
        {
          "output_type": "execute_result",
          "data": {
            "text/plain": [
              "'반갑습니다.'"
            ],
            "application/vnd.google.colaboratory.intrinsic+json": {
              "type": "string"
            }
          },
          "metadata": {},
          "execution_count": 12
        }
      ]
    },
    {
      "cell_type": "markdown",
      "source": [
        "##위에서 저장된 변수에서 학교이름만 나오도록 print하시오"
      ],
      "metadata": {
        "id": "01a76lNDm-IR"
      }
    },
    {
      "cell_type": "code",
      "execution_count": 16,
      "metadata": {
        "id": "QX2OjsROkwDc",
        "colab": {
          "base_uri": "https://localhost:8080/"
        },
        "outputId": "780201a7-7f71-4230-81b9-f0d209828b16"
      },
      "outputs": [
        {
          "output_type": "stream",
          "name": "stdout",
          "text": [
            "강원대\n"
          ]
        }
      ],
      "source": [
        "print(A[1])"
      ]
    },
    {
      "cell_type": "markdown",
      "source": [
        "##주어진 이름(Jone-30, Park-30, Kim-20, Lee-10, Oh-32, Kang-25)을 name이란 리스트를 만들고 Lee를 가진 사람의 성만 따로 도출하시오"
      ],
      "metadata": {
        "id": "iwarHaxfk4zW"
      }
    },
    {
      "cell_type": "code",
      "source": [
        "name=[\"Jone-30\", \"Park-30\", \"Kim-20\", \"Lee-10\", \"Oh-32\", \"Kang-25\"]\n",
        "name.index(\"Lee-10\")"
      ],
      "metadata": {
        "id": "0RS1SIt2mT55",
        "colab": {
          "base_uri": "https://localhost:8080/"
        },
        "outputId": "0d13de30-f535-4ba9-d108-31d2f176d730"
      },
      "execution_count": 24,
      "outputs": [
        {
          "output_type": "execute_result",
          "data": {
            "text/plain": [
              "3"
            ]
          },
          "metadata": {},
          "execution_count": 24
        }
      ]
    },
    {
      "cell_type": "markdown",
      "source": [
        "##20, 50, 76, 10, 59, 22, 40 ,50, 77, 52의 숫자를 하나의 리스트에 저장하시오"
      ],
      "metadata": {
        "id": "rr__BdUH-Elo"
      }
    },
    {
      "cell_type": "code",
      "source": [
        "C=[20, 50, 76, 10, 59, 22, 40 ,50, 77, 52]"
      ],
      "metadata": {
        "id": "OSfGbKq4mJ8T"
      },
      "execution_count": 18,
      "outputs": []
    },
    {
      "cell_type": "markdown",
      "source": [
        "## 위에서 저장된 리스트에서 20, 50, 76, 10만 print하시오"
      ],
      "metadata": {
        "id": "O-YZ8boQ-SiI"
      }
    },
    {
      "cell_type": "code",
      "source": [
        "print(C[0:4])"
      ],
      "metadata": {
        "id": "vCcYYQnxia2i",
        "colab": {
          "base_uri": "https://localhost:8080/"
        },
        "outputId": "860707e1-ec10-4adf-aee8-bdd3012f4788"
      },
      "execution_count": 20,
      "outputs": [
        {
          "output_type": "stream",
          "name": "stdout",
          "text": [
            "[20, 50, 76, 10]\n"
          ]
        }
      ]
    },
    {
      "cell_type": "markdown",
      "source": [
        "##위에서 저장된 리스트에서 77만 print하시오"
      ],
      "metadata": {
        "id": "jEpdDU_G-eK4"
      }
    },
    {
      "cell_type": "code",
      "source": [
        "print(C[-2])"
      ],
      "metadata": {
        "id": "oWKGzPmo-_d4",
        "colab": {
          "base_uri": "https://localhost:8080/"
        },
        "outputId": "9eeb311a-90ac-435c-fbce-ef91b2e09818"
      },
      "execution_count": 21,
      "outputs": [
        {
          "output_type": "stream",
          "name": "stdout",
          "text": [
            "77\n"
          ]
        }
      ]
    },
    {
      "cell_type": "markdown",
      "source": [
        "## 위에서 저장된 리스트에서 음수를 활용해 77, 52를 가지고오시오"
      ],
      "metadata": {
        "id": "hy4j_vUk-zHA"
      }
    },
    {
      "cell_type": "code",
      "source": [
        "print(C[-2:])"
      ],
      "metadata": {
        "id": "zXZk1A4Kiidy",
        "colab": {
          "base_uri": "https://localhost:8080/"
        },
        "outputId": "9a389fc6-5d77-4037-9cf5-a7b817ccac35"
      },
      "execution_count": 22,
      "outputs": [
        {
          "output_type": "stream",
          "name": "stdout",
          "text": [
            "[77, 52]\n"
          ]
        }
      ]
    }
  ]
}