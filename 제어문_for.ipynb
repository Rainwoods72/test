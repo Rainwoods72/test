{
  "nbformat": 4,
  "nbformat_minor": 0,
  "metadata": {
    "colab": {
      "provenance": [],
      "include_colab_link": true
    },
    "kernelspec": {
      "name": "python3",
      "display_name": "Python 3"
    },
    "language_info": {
      "name": "python"
    }
  },
  "cells": [
    {
      "cell_type": "markdown",
      "metadata": {
        "id": "view-in-github",
        "colab_type": "text"
      },
      "source": [
        "<a href=\"https://colab.research.google.com/github/Rainwoods72/test/blob/main/%EC%A0%9C%EC%96%B4%EB%AC%B8_for.ipynb\" target=\"_parent\"><img src=\"https://colab.research.google.com/assets/colab-badge.svg\" alt=\"Open In Colab\"/></a>"
      ]
    },
    {
      "cell_type": "code",
      "source": [],
      "metadata": {
        "id": "A2bGjLF85aEO"
      },
      "execution_count": null,
      "outputs": []
    },
    {
      "cell_type": "code",
      "source": [],
      "metadata": {
        "id": "E53rMbiOICXN"
      },
      "execution_count": null,
      "outputs": []
    },
    {
      "cell_type": "code",
      "source": [
        "text=[\"김철수/20\", \"이철수/24\", \"김영희/21\", \"이영희/24\", \"김민준/35\", \"박민준/40\", \"김지영/34\", \"박지영/35\"]"
      ],
      "metadata": {
        "id": "Y8MhPJXE1OTa"
      },
      "execution_count": null,
      "outputs": []
    },
    {
      "cell_type": "code",
      "source": [
        "a=[]\n",
        "for i in text:\n",
        "  strings = i.split('/')\n",
        "  a.append(strings)\n",
        "print(a)"
      ],
      "metadata": {
        "colab": {
          "base_uri": "https://localhost:8080/"
        },
        "id": "nu7m3Zs82eCD",
        "outputId": "baffd180-34f8-457d-b034-c37198636631"
      },
      "execution_count": null,
      "outputs": [
        {
          "output_type": "stream",
          "name": "stdout",
          "text": [
            "[['김철수', '20'], ['이철수', '24'], ['김영희', '21'], ['이영희', '24'], ['김민준', '35'], ['박민준', '40'], ['김지영', '34'], ['박지영', '35']]\n"
          ]
        }
      ]
    },
    {
      "cell_type": "code",
      "source": [
        "for i in range(len(a)):\n",
        "  print((\"{}는 {}살이다.\").format(a[i][0], a[i][1]))"
      ],
      "metadata": {
        "colab": {
          "base_uri": "https://localhost:8080/"
        },
        "id": "GTHR2x1V2xJA",
        "outputId": "1254781a-e596-4436-ab51-deb8914a6451"
      },
      "execution_count": null,
      "outputs": [
        {
          "output_type": "stream",
          "name": "stdout",
          "text": [
            "김철수는 20살이다.\n",
            "이철수는 24살이다.\n",
            "김영희는 21살이다.\n",
            "이영희는 24살이다.\n",
            "김민준는 35살이다.\n",
            "박민준는 40살이다.\n",
            "김지영는 34살이다.\n",
            "박지영는 35살이다.\n"
          ]
        }
      ]
    },
    {
      "cell_type": "code",
      "source": [],
      "metadata": {
        "id": "kNXma0wNLcGu"
      },
      "execution_count": null,
      "outputs": []
    },
    {
      "cell_type": "markdown",
      "source": [
        "##for문을 활용해 50 부터 83까지 print 하시오"
      ],
      "metadata": {
        "id": "5Hgm405mHN2a"
      }
    },
    {
      "cell_type": "code",
      "source": [
        "for i in range(50,84):\n",
        "  print(i)"
      ],
      "metadata": {
        "id": "h6F7BjinLeb2",
        "outputId": "dcc3fbe0-fa00-4a1b-8957-01a431cf737e",
        "colab": {
          "base_uri": "https://localhost:8080/"
        }
      },
      "execution_count": 2,
      "outputs": [
        {
          "output_type": "stream",
          "name": "stdout",
          "text": [
            "50\n",
            "51\n",
            "52\n",
            "53\n",
            "54\n",
            "55\n",
            "56\n",
            "57\n",
            "58\n",
            "59\n",
            "60\n",
            "61\n",
            "62\n",
            "63\n",
            "64\n",
            "65\n",
            "66\n",
            "67\n",
            "68\n",
            "69\n",
            "70\n",
            "71\n",
            "72\n",
            "73\n",
            "74\n",
            "75\n",
            "76\n",
            "77\n",
            "78\n",
            "79\n",
            "80\n",
            "81\n",
            "82\n",
            "83\n"
          ]
        }
      ]
    },
    {
      "cell_type": "markdown",
      "source": [
        "##하나의 빈 리스트 a=[]를 만들고 1단 부터 9단까지의 구구단의 결과 값을 a라는 하나의 리스트에 저장하시오"
      ],
      "metadata": {
        "id": "rIF9_db8HmQx"
      }
    },
    {
      "cell_type": "code",
      "source": [
        "a=[]\n",
        "for i in range(1,10):\n",
        "  for j in range(1,10):\n",
        "    b=i*j\n",
        "    a.append(b)\n",
        "print(a)"
      ],
      "metadata": {
        "id": "sJhzS0uOHzxJ",
        "outputId": "9c1e940a-b0f2-4ced-d72b-aceabf9109d8",
        "colab": {
          "base_uri": "https://localhost:8080/"
        }
      },
      "execution_count": 4,
      "outputs": [
        {
          "output_type": "stream",
          "name": "stdout",
          "text": [
            "[1, 2, 3, 4, 5, 6, 7, 8, 9, 2, 4, 6, 8, 10, 12, 14, 16, 18, 3, 6, 9, 12, 15, 18, 21, 24, 27, 4, 8, 12, 16, 20, 24, 28, 32, 36, 5, 10, 15, 20, 25, 30, 35, 40, 45, 6, 12, 18, 24, 30, 36, 42, 48, 54, 7, 14, 21, 28, 35, 42, 49, 56, 63, 8, 16, 24, 32, 40, 48, 56, 64, 72, 9, 18, 27, 36, 45, 54, 63, 72, 81]\n"
          ]
        }
      ]
    },
    {
      "cell_type": "markdown",
      "source": [
        "##위에서 만들어진 a라는 리스트에서 최초의 64, 81이 속하는 위치값을 도출하시오"
      ],
      "metadata": {
        "id": "DXXlpmYzIHOA"
      }
    },
    {
      "cell_type": "code",
      "source": [
        "c=a.index(64)\n",
        "d=a.index(81)\n",
        "print(c, d)"
      ],
      "metadata": {
        "id": "hr3DyiXgH6tz",
        "outputId": "daaa73a0-62ff-4e84-d8ca-3936830cf1b9",
        "colab": {
          "base_uri": "https://localhost:8080/"
        }
      },
      "execution_count": 9,
      "outputs": [
        {
          "output_type": "stream",
          "name": "stdout",
          "text": [
            "70 80\n"
          ]
        }
      ]
    },
    {
      "cell_type": "markdown",
      "source": [
        "## 아이스크림의 이름과 가격을 딕셔너리 형태로 저장하시오\n",
        "## 바밤바 : 1500원, 메로나 : 1500원, 붕어싸만코 : 2000원, 월드콘 : 3000원, 투게더 : 5000원 "
      ],
      "metadata": {
        "id": "d1RJX6IDIp2A"
      }
    },
    {
      "cell_type": "code",
      "source": [
        "icecream={\"바밤바\":\"1500원\",\"메로나\":\"1500원\",\"붕어싸만코\":\"2000원\",\"월드콘\":\"3000원\",\"투게더\":\"5000원\"}"
      ],
      "metadata": {
        "id": "y65zwXAHIDbJ"
      },
      "execution_count": 10,
      "outputs": []
    },
    {
      "cell_type": "markdown",
      "source": [
        "## 해당 딕셔너리에 월드콘을 삭제하고 쌍쌍바 : 2000원을 추가하시오"
      ],
      "metadata": {
        "id": "mHwZKe_GJrpo"
      }
    },
    {
      "cell_type": "code",
      "source": [
        "del icecream[\"월드콘\"]\n",
        "icecream[\"쌍쌍바\"]=\"2000원\"\n",
        "print(icecream)"
      ],
      "metadata": {
        "id": "tt9EdxJBIUGJ",
        "outputId": "e1490a31-d18d-4b31-fcf8-b28067c4548b",
        "colab": {
          "base_uri": "https://localhost:8080/"
        }
      },
      "execution_count": 11,
      "outputs": [
        {
          "output_type": "stream",
          "name": "stdout",
          "text": [
            "{'바밤바': '1500원', '메로나': '1500원', '붕어싸만코': '2000원', '투게더': '5000원', '쌍쌍바': '2000원'}\n"
          ]
        }
      ]
    },
    {
      "cell_type": "code",
      "source": [],
      "metadata": {
        "id": "vLtB6D3ZMFdd"
      },
      "execution_count": null,
      "outputs": []
    },
    {
      "cell_type": "markdown",
      "source": [
        "## for문을 활용해 1단부터 9단까지 곱한 결과를 나타낼때 아래의 리스트를 써서 표현하시오\n",
        "## a=[\"1단\",\"2단\",\"3단\",\"4단\",\"5단\",\"6단\",\"7단\",\"8단\",\"9단\"]"
      ],
      "metadata": {
        "id": "sNm6q5OsKE93"
      }
    },
    {
      "cell_type": "code",
      "source": [
        "a=[\"1단\",\"2단\",\"3단\",\"4단\",\"5단\",\"6단\",\"7단\",\"8단\",\"9단\"]\n",
        "for i in range(1,10):\n",
        "  print(\"--------\",a[i-1],\"----------\")\n",
        "  for j in range(1,10):\n",
        "    print(i,\"X\",j,\"=\",i*j)"
      ],
      "metadata": {
        "id": "n_ho38GCIjVo",
        "colab": {
          "base_uri": "https://localhost:8080/"
        },
        "outputId": "90113a3f-cf1b-4786-e550-dd17b474244a"
      },
      "execution_count": 23,
      "outputs": [
        {
          "output_type": "stream",
          "name": "stdout",
          "text": [
            "-------- 1단 ----------\n",
            "1 X 1 = 1\n",
            "1 X 2 = 2\n",
            "1 X 3 = 3\n",
            "1 X 4 = 4\n",
            "1 X 5 = 5\n",
            "1 X 6 = 6\n",
            "1 X 7 = 7\n",
            "1 X 8 = 8\n",
            "1 X 9 = 9\n",
            "-------- 2단 ----------\n",
            "2 X 1 = 2\n",
            "2 X 2 = 4\n",
            "2 X 3 = 6\n",
            "2 X 4 = 8\n",
            "2 X 5 = 10\n",
            "2 X 6 = 12\n",
            "2 X 7 = 14\n",
            "2 X 8 = 16\n",
            "2 X 9 = 18\n",
            "-------- 3단 ----------\n",
            "3 X 1 = 3\n",
            "3 X 2 = 6\n",
            "3 X 3 = 9\n",
            "3 X 4 = 12\n",
            "3 X 5 = 15\n",
            "3 X 6 = 18\n",
            "3 X 7 = 21\n",
            "3 X 8 = 24\n",
            "3 X 9 = 27\n",
            "-------- 4단 ----------\n",
            "4 X 1 = 4\n",
            "4 X 2 = 8\n",
            "4 X 3 = 12\n",
            "4 X 4 = 16\n",
            "4 X 5 = 20\n",
            "4 X 6 = 24\n",
            "4 X 7 = 28\n",
            "4 X 8 = 32\n",
            "4 X 9 = 36\n",
            "-------- 5단 ----------\n",
            "5 X 1 = 5\n",
            "5 X 2 = 10\n",
            "5 X 3 = 15\n",
            "5 X 4 = 20\n",
            "5 X 5 = 25\n",
            "5 X 6 = 30\n",
            "5 X 7 = 35\n",
            "5 X 8 = 40\n",
            "5 X 9 = 45\n",
            "-------- 6단 ----------\n",
            "6 X 1 = 6\n",
            "6 X 2 = 12\n",
            "6 X 3 = 18\n",
            "6 X 4 = 24\n",
            "6 X 5 = 30\n",
            "6 X 6 = 36\n",
            "6 X 7 = 42\n",
            "6 X 8 = 48\n",
            "6 X 9 = 54\n",
            "-------- 7단 ----------\n",
            "7 X 1 = 7\n",
            "7 X 2 = 14\n",
            "7 X 3 = 21\n",
            "7 X 4 = 28\n",
            "7 X 5 = 35\n",
            "7 X 6 = 42\n",
            "7 X 7 = 49\n",
            "7 X 8 = 56\n",
            "7 X 9 = 63\n",
            "-------- 8단 ----------\n",
            "8 X 1 = 8\n",
            "8 X 2 = 16\n",
            "8 X 3 = 24\n",
            "8 X 4 = 32\n",
            "8 X 5 = 40\n",
            "8 X 6 = 48\n",
            "8 X 7 = 56\n",
            "8 X 8 = 64\n",
            "8 X 9 = 72\n",
            "-------- 9단 ----------\n",
            "9 X 1 = 9\n",
            "9 X 2 = 18\n",
            "9 X 3 = 27\n",
            "9 X 4 = 36\n",
            "9 X 5 = 45\n",
            "9 X 6 = 54\n",
            "9 X 7 = 63\n",
            "9 X 8 = 72\n",
            "9 X 9 = 81\n"
          ]
        }
      ]
    },
    {
      "cell_type": "code",
      "source": [],
      "metadata": {
        "id": "cAc-YV1SLfco"
      },
      "execution_count": null,
      "outputs": []
    }
  ]
}