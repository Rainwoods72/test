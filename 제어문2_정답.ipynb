{
  "nbformat": 4,
  "nbformat_minor": 0,
  "metadata": {
    "colab": {
      "provenance": [],
      "include_colab_link": true
    },
    "kernelspec": {
      "name": "python3",
      "display_name": "Python 3"
    },
    "language_info": {
      "name": "python"
    }
  },
  "cells": [
    {
      "cell_type": "markdown",
      "metadata": {
        "id": "view-in-github",
        "colab_type": "text"
      },
      "source": [
        "<a href=\"https://colab.research.google.com/github/Rainwoods72/test/blob/main/%EC%A0%9C%EC%96%B4%EB%AC%B82_%EC%A0%95%EB%8B%B5.ipynb\" target=\"_parent\"><img src=\"https://colab.research.google.com/assets/colab-badge.svg\" alt=\"Open In Colab\"/></a>"
      ]
    },
    {
      "cell_type": "markdown",
      "source": [
        "## float의 입력값을 받아 아래의 결과를 프린트하는 성적 계산기를 만들어라(if문 활용)\n",
        "* A: 90이상-100이하\n",
        "* B: 80이상-89이하\n",
        "* C: 70이상-79이하\n",
        "* D: 60이상-69이하\n",
        "* F: 60보다 낮으면"
      ],
      "metadata": {
        "id": "qlfFvwIxu1dD"
      }
    },
    {
      "cell_type": "code",
      "source": [
        "score = float(input(\"성적을 입력하세요 : \"))\n",
        "\n",
        "if score >= 90:\n",
        "    grade = 'A'\n",
        "elif score >= 80:\n",
        "    grade = 'B'\n",
        "elif score >= 70:\n",
        "    grade = 'C'\n",
        "elif score >= 60:\n",
        "    grade = 'D'\n",
        "else:\n",
        "    grade = 'F'\n",
        "\n",
        "print(\"너의 성적은 :\", grade)"
      ],
      "metadata": {
        "colab": {
          "base_uri": "https://localhost:8080/"
        },
        "id": "R1lqVdFKqTfa",
        "outputId": "9f527ffc-7932-49a3-b8cf-1bc51e92e16c"
      },
      "execution_count": null,
      "outputs": [
        {
          "output_type": "stream",
          "name": "stdout",
          "text": [
            "성적을 입력하세요 : 50\n",
            "너의 성적은 : F\n"
          ]
        }
      ]
    },
    {
      "cell_type": "markdown",
      "source": [
        "## 3, 6, 8, 9, 12, 15를 리스트로 만들고 리스트의 값들중 2로 나눴을때 나머지가 0인 숫자들을 하나의 리스트에 저장하고 이를 프린트하시오(for, if문 사용)"
      ],
      "metadata": {
        "id": "jGix8ysDqYGb"
      }
    },
    {
      "cell_type": "code",
      "source": [
        "numbers = [3, 6, 8, 9, 12, 15]\n",
        "even_numbers = []\n",
        "for num in numbers:\n",
        "    if num % 2 == 0:\n",
        "        even_numbers.append(num)\n",
        "print(even_numbers)"
      ],
      "metadata": {
        "id": "6JJf5JthiIAv"
      },
      "execution_count": null,
      "outputs": []
    },
    {
      "cell_type": "markdown",
      "source": [
        "## 3, 6, 8, 9, 12, 15를 리스트로 만들고 리스트의 값들중 2로 나눴을때 나머지가 0인 숫자들을 하나의 리스트에 저장하고 이를 프린트하시오(while, if문 사용)"
      ],
      "metadata": {
        "id": "VvW9_tKyuPH-"
      }
    },
    {
      "cell_type": "code",
      "source": [
        "numbers = [3, 6, 8, 9, 12, 15]\n",
        "b = []\n",
        "i = 0\n",
        "while i < len(numbers):\n",
        "    if numbers[i] % 2 == 0:\n",
        "        b.append(numbers[i])\n",
        "    i += 1\n",
        "print(b)"
      ],
      "metadata": {
        "colab": {
          "base_uri": "https://localhost:8080/"
        },
        "id": "7fS1BrUhuJRz",
        "outputId": "aaaf655f-b1b3-4f96-f62f-ac9425667268"
      },
      "execution_count": null,
      "outputs": [
        {
          "output_type": "stream",
          "name": "stdout",
          "text": [
            "[6, 8, 12]\n"
          ]
        }
      ]
    },
    {
      "cell_type": "markdown",
      "source": [
        "##6, 12, 18, 20, 24, 30의 값을 하나의 리스트로 만들고 2의 배수와 3의 배수에 모두 해당하는 값을 하나의 리스트에 저장해 프린트하시오"
      ],
      "metadata": {
        "id": "lE73l5h_sDjq"
      }
    },
    {
      "cell_type": "code",
      "source": [
        "numbers = [6, 12, 18, 20, 24, 30]\n",
        "b = []\n",
        "for num in numbers:\n",
        "    if num % 2 == 0 and num % 3 == 0:\n",
        "        b.append(num)\n",
        "print(b)"
      ],
      "metadata": {
        "colab": {
          "base_uri": "https://localhost:8080/"
        },
        "id": "g1AqH1oziZLI",
        "outputId": "4623d15e-2129-463e-9843-3dee09906215"
      },
      "execution_count": null,
      "outputs": [
        {
          "output_type": "stream",
          "name": "stdout",
          "text": [
            "[6, 12, 18, 24, 30]\n"
          ]
        }
      ]
    },
    {
      "cell_type": "markdown",
      "source": [
        "## 3, 6, 8, 9, 12, 15의 값을 하나의 리스트에 저장하고 5보다 큰 값을 따로 하나의 리스트에 저장해 프린트하시오"
      ],
      "metadata": {
        "id": "QQ2XAzCktta0"
      }
    },
    {
      "cell_type": "code",
      "source": [
        "numbers = [3, 6, 8, 9, 12, 15]\n",
        "five = []\n",
        "for num in numbers:\n",
        "    if num > 5:\n",
        "        five.append(num)\n",
        "print(five)"
      ],
      "metadata": {
        "colab": {
          "base_uri": "https://localhost:8080/"
        },
        "id": "1mVKXFX4iidL",
        "outputId": "7bc479f4-832c-457a-a7c7-fefa19e55c3a"
      },
      "execution_count": null,
      "outputs": [
        {
          "output_type": "stream",
          "name": "stdout",
          "text": [
            "[6, 8, 9, 12, 15]\n"
          ]
        }
      ]
    },
    {
      "cell_type": "markdown",
      "source": [
        "## apple, banana, orange, pear, kiwi를 리스트에 저장하고, 단어의 길이가 5이상인 단어들만 하나의 리스트에 저장하고 이를 프린트하시오(for, if문 사용)"
      ],
      "metadata": {
        "id": "E2XkCWNuq9kH"
      }
    },
    {
      "cell_type": "code",
      "source": [
        "words = ['apple', 'banana', 'orange', 'pear', 'kiwi']\n",
        "long_words = []\n",
        "for word in words:\n",
        "    if len(word) > 5:\n",
        "        long_words.append(word)\n",
        "print(long_words)"
      ],
      "metadata": {
        "colab": {
          "base_uri": "https://localhost:8080/"
        },
        "id": "ykjKWGAbiSr_",
        "outputId": "04c1beab-0644-4c4b-e12b-a8614616110c"
      },
      "execution_count": null,
      "outputs": [
        {
          "output_type": "stream",
          "name": "stdout",
          "text": [
            "['banana', 'orange']\n"
          ]
        }
      ]
    },
    {
      "cell_type": "markdown",
      "source": [
        "## apple, banana, orange, pear, kiwi를 하나의 리스트로 만들고 e가 포함된 단어들만 따로 하나의 리스트에 저장해 프린트하시오(for, if문 사용)"
      ],
      "metadata": {
        "id": "t9yb17fntS5I"
      }
    },
    {
      "cell_type": "code",
      "source": [
        "strings = ['apple', 'banana', 'orange', 'pear', 'kiwi']\n",
        "strings_with_e = []\n",
        "for string in strings:\n",
        "    if 'e' in string:\n",
        "        strings_with_e.append(string)\n",
        "print(strings_with_e)"
      ],
      "metadata": {
        "colab": {
          "base_uri": "https://localhost:8080/"
        },
        "id": "d489vUvgiZIA",
        "outputId": "761b22b6-b955-48bf-98e1-69616aee8fcf"
      },
      "execution_count": null,
      "outputs": [
        {
          "output_type": "stream",
          "name": "stdout",
          "text": [
            "['apple', 'orange', 'pear']\n"
          ]
        }
      ]
    },
    {
      "cell_type": "markdown",
      "source": [
        "##John, Jane, David, Jessica, Josh를 리스트에 저장하고, 이름 처음 시작하는 단어가 J인 이름만 하나의 리스트에 저장하고 이를 프린트하시오(for, if문 사용)"
      ],
      "metadata": {
        "id": "XACAVhx0srPS"
      }
    },
    {
      "cell_type": "code",
      "source": [
        "names = ['John', 'Jane', 'David','Donajan','Jessica', 'Josh', 'Benjamin']\n",
        "j_names = []\n",
        "for name in names:\n",
        "    if name[0] == 'J':\n",
        "        j_names.append(name)\n",
        "print(j_names)"
      ],
      "metadata": {
        "colab": {
          "base_uri": "https://localhost:8080/"
        },
        "id": "95uX5YnVshha",
        "outputId": "c00b0da6-a57a-42f1-8dee-c1ef04fb4b28"
      },
      "execution_count": null,
      "outputs": [
        {
          "output_type": "stream",
          "name": "stdout",
          "text": [
            "['John', 'Jane', 'Jessica', 'Josh']\n"
          ]
        }
      ]
    },
    {
      "cell_type": "markdown",
      "source": [
        "##숫자 2, 14, 5, 7, 11, 9, 12, 15를 리스트로 만들고 리스트에서 10보다 크거나 2로 나눴을때 나머지가 1이 나오는 숫자만 프린트하시오(while, if 사용)"
      ],
      "metadata": {
        "id": "ekfPczCUp3TX"
      }
    },
    {
      "cell_type": "code",
      "source": [
        "numbers = [2, 14, 5, 7, 11, 9, 12, 15]\n",
        "i = 0\n",
        "\n",
        "while  i < len(numbers):\n",
        "    if numbers[i] > 10 and numbers[i] % 2 == 1:\n",
        "        print(numbers[i])\n",
        "    i += 1"
      ],
      "metadata": {
        "id": "kNXma0wNLcGu",
        "colab": {
          "base_uri": "https://localhost:8080/"
        },
        "outputId": "63fd8a44-0422-4be4-eef2-f0e3a89de8cd"
      },
      "execution_count": null,
      "outputs": [
        {
          "output_type": "stream",
          "name": "stdout",
          "text": [
            "11\n",
            "15\n"
          ]
        }
      ]
    },
    {
      "cell_type": "markdown",
      "source": [
        "##하나의 빈 리스트를 만들고 input값을 넣었을때 이 input값이 양수이면 input값을 빈 리스트에 추가하고 음수이면 동작을 끝내고 리스트에 추가된 값들을 더해 프린트해라(while, if, break사용)\n",
        "\n",
        "* 리스트의 모든 숫자를 더하는 함수 sum(리스트)"
      ],
      "metadata": {
        "id": "MRi4W3AqxJ3Z"
      }
    },
    {
      "cell_type": "code",
      "source": [
        "numbers = []\n",
        "while True:\n",
        "    num = int(input(\"숫자를 입력해 주세요 : \"))\n",
        "    numbers.append(num)\n",
        "    if num < 0:\n",
        "        break\n",
        "\n",
        "print((\"입력한 숫자의 모든 합은 : {}\").format(sum(numbers)))"
      ],
      "metadata": {
        "colab": {
          "base_uri": "https://localhost:8080/"
        },
        "id": "CA9zS_yZwFiT",
        "outputId": "7093d3b5-d6a1-47be-9fad-35b0e4d93bc1"
      },
      "execution_count": null,
      "outputs": [
        {
          "output_type": "stream",
          "name": "stdout",
          "text": [
            "숫자를 입력해 주세요 : 50\n",
            "숫자를 입력해 주세요 : -1\n",
            "입력한 숫자의 모든 합은 : 49\n"
          ]
        }
      ]
    },
    {
      "cell_type": "markdown",
      "source": [
        "## password라는 변수에 특정 문자를 부여하고 해당 input()함수를 활용해 password에 해당되는 문자가 정확하게 입력 되었을 때, 로그인되었습니다. 라는 문장을 프린트후 while문을 종료해라 만약에 문자가 정확하게 입력되지 않으면 잘못된 패스워드 입니다. 라는 문장을 프린트해라(while, if, break 사용)"
      ],
      "metadata": {
        "id": "Mr5pvs5IyuRU"
      }
    },
    {
      "cell_type": "code",
      "source": [
        "password = \"password\"\n",
        "while True:\n",
        "    input_password = input(\"패스워드를 입력해 주세요: \")\n",
        "    if input_password == password:\n",
        "        print(\"로그인되었습니다.\")\n",
        "        break\n",
        "    else:\n",
        "        print(\"잘못된 패스워드 입니다.\")"
      ],
      "metadata": {
        "colab": {
          "base_uri": "https://localhost:8080/"
        },
        "id": "WeMeErG5yAJ9",
        "outputId": "173d15b2-198a-4800-f08d-c3122cc88af3"
      },
      "execution_count": null,
      "outputs": [
        {
          "output_type": "stream",
          "name": "stdout",
          "text": [
            "패스워드를 입력해 주세요: password\n",
            "로그인되었습니다.\n"
          ]
        }
      ]
    },
    {
      "cell_type": "code",
      "source": [],
      "metadata": {
        "id": "TCLbQ9CYzpPV"
      },
      "execution_count": null,
      "outputs": []
    }
  ]
}