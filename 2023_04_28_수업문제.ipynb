{
  "nbformat": 4,
  "nbformat_minor": 0,
  "metadata": {
    "colab": {
      "provenance": [],
      "include_colab_link": true
    },
    "kernelspec": {
      "name": "python3",
      "display_name": "Python 3"
    },
    "language_info": {
      "name": "python"
    }
  },
  "cells": [
    {
      "cell_type": "markdown",
      "metadata": {
        "id": "view-in-github",
        "colab_type": "text"
      },
      "source": [
        "<a href=\"https://colab.research.google.com/github/Rainwoods72/test/blob/main/2023_04_28_%EC%88%98%EC%97%85%EB%AC%B8%EC%A0%9C.ipynb\" target=\"_parent\"><img src=\"https://colab.research.google.com/assets/colab-badge.svg\" alt=\"Open In Colab\"/></a>"
      ]
    },
    {
      "cell_type": "markdown",
      "source": [
        "##eqtt,frs2,gee3,gh41,fb3g 의 키 값을 아래와 같이 나타내시오. (4줄로 작성)\n",
        "['키값은 : eqtt 입니다.',\n",
        " '키값은 : frs2 입니다.',\n",
        " '키값은 : gee3 입니다.',\n",
        " '키값은 : gh41 입니다.',\n",
        " '키값은 : fb3g 입니다.']"
      ],
      "metadata": {
        "id": "d5XLvNZ8orjh"
      }
    },
    {
      "cell_type": "code",
      "source": [
        "list=[\"eqtt\",\"frs2\",\"gee3\",\"gh41\",\"fb3g\"]\n"
      ],
      "metadata": {
        "colab": {
          "base_uri": "https://localhost:8080/"
        },
        "id": "wedf1trqn5MJ",
        "outputId": "f3866b3c-405e-4229-d045-d00e76a5a520"
      },
      "execution_count": null,
      "outputs": [
        {
          "output_type": "execute_result",
          "data": {
            "text/plain": [
              "['키값은 : eqtt 입니다.',\n",
              " '키값은 : frs2 입니다.',\n",
              " '키값은 : gee3 입니다.',\n",
              " '키값은 : gh41 입니다.',\n",
              " '키값은 : fb3g 입니다.']"
            ]
          },
          "metadata": {},
          "execution_count": 10
        }
      ]
    },
    {
      "cell_type": "markdown",
      "source": [
        "##아래와 같은 결과를 만들어내시오(for문과 while문을 활용해서) 9줄 이하"
      ],
      "metadata": {
        "id": "_JlB3e3UtXQV"
      }
    },
    {
      "cell_type": "code",
      "source": [
        "i=0\n",
        "while i<7:\n",
        "  i+=1\n",
        "  print(\"----\",i,\"번째 ----\")\n",
        "  for j in range(1,6):\n",
        "    print(j,\"번째 시도\")"
      ],
      "metadata": {
        "colab": {
          "base_uri": "https://localhost:8080/"
        },
        "id": "GvViAYHbsGI-",
        "outputId": "10a6d0c5-2083-49c4-ece7-5fcb1e4fac71"
      },
      "execution_count": 4,
      "outputs": [
        {
          "output_type": "stream",
          "name": "stdout",
          "text": [
            "---- 1 번째 ----\n",
            "1 번째 시도\n",
            "2 번째 시도\n",
            "3 번째 시도\n",
            "4 번째 시도\n",
            "5 번째 시도\n",
            "---- 2 번째 ----\n",
            "1 번째 시도\n",
            "2 번째 시도\n",
            "3 번째 시도\n",
            "4 번째 시도\n",
            "5 번째 시도\n",
            "---- 3 번째 ----\n",
            "1 번째 시도\n",
            "2 번째 시도\n",
            "3 번째 시도\n",
            "4 번째 시도\n",
            "5 번째 시도\n",
            "---- 4 번째 ----\n",
            "1 번째 시도\n",
            "2 번째 시도\n",
            "3 번째 시도\n",
            "4 번째 시도\n",
            "5 번째 시도\n",
            "---- 5 번째 ----\n",
            "1 번째 시도\n",
            "2 번째 시도\n",
            "3 번째 시도\n",
            "4 번째 시도\n",
            "5 번째 시도\n",
            "---- 6 번째 ----\n",
            "1 번째 시도\n",
            "2 번째 시도\n",
            "3 번째 시도\n",
            "4 번째 시도\n",
            "5 번째 시도\n",
            "---- 7 번째 ----\n",
            "1 번째 시도\n",
            "2 번째 시도\n",
            "3 번째 시도\n",
            "4 번째 시도\n",
            "5 번째 시도\n"
          ]
        }
      ]
    },
    {
      "cell_type": "code",
      "source": [
        "A=[1,2,3,4,5,6,7]\n",
        "i=0\n",
        "while i<10:\n",
        "  print(\"----\",A[i],\"번째 ----\")\n",
        "  if i>7:\n",
        "    break\n",
        "  for j in range(1,6):\n",
        "    print(j,\"번째 시도\")\n",
        "  i+=1"
      ],
      "metadata": {
        "id": "tROc61iGoEPw",
        "outputId": "96613f2d-0668-4f43-e524-d563e51ca429",
        "colab": {
          "base_uri": "https://localhost:8080/",
          "height": 1000
        }
      },
      "execution_count": 25,
      "outputs": [
        {
          "output_type": "stream",
          "name": "stdout",
          "text": [
            "---- 1 번째 ----\n",
            "1 번째 시도\n",
            "2 번째 시도\n",
            "3 번째 시도\n",
            "4 번째 시도\n",
            "5 번째 시도\n",
            "---- 2 번째 ----\n",
            "1 번째 시도\n",
            "2 번째 시도\n",
            "3 번째 시도\n",
            "4 번째 시도\n",
            "5 번째 시도\n",
            "---- 3 번째 ----\n",
            "1 번째 시도\n",
            "2 번째 시도\n",
            "3 번째 시도\n",
            "4 번째 시도\n",
            "5 번째 시도\n",
            "---- 4 번째 ----\n",
            "1 번째 시도\n",
            "2 번째 시도\n",
            "3 번째 시도\n",
            "4 번째 시도\n",
            "5 번째 시도\n",
            "---- 5 번째 ----\n",
            "1 번째 시도\n",
            "2 번째 시도\n",
            "3 번째 시도\n",
            "4 번째 시도\n",
            "5 번째 시도\n",
            "---- 6 번째 ----\n",
            "1 번째 시도\n",
            "2 번째 시도\n",
            "3 번째 시도\n",
            "4 번째 시도\n",
            "5 번째 시도\n",
            "---- 7 번째 ----\n",
            "1 번째 시도\n",
            "2 번째 시도\n",
            "3 번째 시도\n",
            "4 번째 시도\n",
            "5 번째 시도\n"
          ]
        },
        {
          "output_type": "error",
          "ename": "IndexError",
          "evalue": "ignored",
          "traceback": [
            "\u001b[0;31m---------------------------------------------------------------------------\u001b[0m",
            "\u001b[0;31mIndexError\u001b[0m                                Traceback (most recent call last)",
            "\u001b[0;32m<ipython-input-25-5fed16089f1d>\u001b[0m in \u001b[0;36m<cell line: 3>\u001b[0;34m()\u001b[0m\n\u001b[1;32m      2\u001b[0m \u001b[0mi\u001b[0m\u001b[0;34m=\u001b[0m\u001b[0;36m0\u001b[0m\u001b[0;34m\u001b[0m\u001b[0;34m\u001b[0m\u001b[0m\n\u001b[1;32m      3\u001b[0m \u001b[0;32mwhile\u001b[0m \u001b[0mi\u001b[0m\u001b[0;34m<\u001b[0m\u001b[0;36m10\u001b[0m\u001b[0;34m:\u001b[0m\u001b[0;34m\u001b[0m\u001b[0;34m\u001b[0m\u001b[0m\n\u001b[0;32m----> 4\u001b[0;31m   \u001b[0mprint\u001b[0m\u001b[0;34m(\u001b[0m\u001b[0;34m\"----\"\u001b[0m\u001b[0;34m,\u001b[0m\u001b[0mA\u001b[0m\u001b[0;34m[\u001b[0m\u001b[0mi\u001b[0m\u001b[0;34m]\u001b[0m\u001b[0;34m,\u001b[0m\u001b[0;34m\"번째 ----\"\u001b[0m\u001b[0;34m)\u001b[0m\u001b[0;34m\u001b[0m\u001b[0;34m\u001b[0m\u001b[0m\n\u001b[0m\u001b[1;32m      5\u001b[0m   \u001b[0;32mif\u001b[0m \u001b[0mi\u001b[0m\u001b[0;34m>\u001b[0m\u001b[0;36m7\u001b[0m\u001b[0;34m:\u001b[0m\u001b[0;34m\u001b[0m\u001b[0;34m\u001b[0m\u001b[0m\n\u001b[1;32m      6\u001b[0m     \u001b[0;32mbreak\u001b[0m\u001b[0;34m\u001b[0m\u001b[0;34m\u001b[0m\u001b[0m\n",
            "\u001b[0;31mIndexError\u001b[0m: list index out of range"
          ]
        }
      ]
    }
  ]
}